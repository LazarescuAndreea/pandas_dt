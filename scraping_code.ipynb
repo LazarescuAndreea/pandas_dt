{
 "cells": [
  {
   "cell_type": "code",
   "execution_count": 10,
   "metadata": {},
   "outputs": [
    {
     "name": "stdout",
     "output_type": "stream",
     "text": [
      "Bucharest      32\n",
      "Cluj-Napoca     7\n",
      "Brașov          2\n",
      "Buftea          1\n",
      "Iași            1\n",
      "Alba Iulia      1\n",
      "Găești          1\n",
      "Mioveni         1\n",
      "Bacău           1\n",
      "Ștei            1\n",
      "Craiova         1\n",
      "Mangalia        1\n",
      "Năvodari        1\n",
      "Otopeni         1\n",
      "Iaşi            1\n",
      "Name: Headquarters, dtype: int64\n"
     ]
    }
   ],
   "source": [
    "import pandas as pd\n",
    "\n",
    "URL='https://en.wikipedia.org/wiki/List_of_companies_of_Romania'\n",
    "\n",
    "dfs = pd.read_html(URL)\n",
    "#print(dfs)\n",
    "\n",
    "df=dfs[0]\n",
    "\n",
    "df_headquarters = df.Headquarters\n",
    "#print(df_headquarters)\n",
    "\n",
    "count = df.Headquarters.value_counts()\n",
    "print(count)"
   ]
  },
  {
   "attachments": {},
   "cell_type": "markdown",
   "metadata": {},
   "source": [
    "So the most popular city among companies headquarters is Bucharest with a count of 32."
   ]
  }
 ],
 "metadata": {
  "kernelspec": {
   "display_name": "Python 3",
   "language": "python",
   "name": "python3"
  },
  "language_info": {
   "codemirror_mode": {
    "name": "ipython",
    "version": 3
   },
   "file_extension": ".py",
   "mimetype": "text/x-python",
   "name": "python",
   "nbconvert_exporter": "python",
   "pygments_lexer": "ipython3",
   "version": "3.11.0"
  },
  "orig_nbformat": 4,
  "vscode": {
   "interpreter": {
    "hash": "3a0b7c9d19d40f31ab498ee1acc0aaf024a1f6158ac2338a79a18478bed28c56"
   }
  }
 },
 "nbformat": 4,
 "nbformat_minor": 2
}
